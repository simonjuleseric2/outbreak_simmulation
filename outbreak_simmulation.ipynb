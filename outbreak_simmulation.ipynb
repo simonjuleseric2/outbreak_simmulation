{
 "cells": [
  {
   "cell_type": "code",
   "execution_count": 4,
   "metadata": {},
   "outputs": [],
   "source": [
    "import numpy as np\n",
    "import matplotlib.pyplot as plt\n",
    "#import matplotlib.animation as animation\n",
    "#from IPython.display import HTML\n",
    "#from skimage import color\n",
    "from scipy.ndimage.filters import convolve\n",
    "import moviepy.editor as mpy\n",
    "import matplotlib.image as mpimg\n",
    "from moviepy.editor import ImageSequenceClip\n",
    "%matplotlib inline\n",
    "\n",
    "\n",
    "def infection_propagation(SIR, infection_rate, incubation_rate):\n",
    "    S,I,R = SIR\n",
    "    newly_infected = infection_rate*R*S\n",
    "    newly_rampaging = incubation_rate*I\n",
    "    dS = - newly_infected\n",
    "    dI = newly_infected - newly_rampaging\n",
    "    dR = newly_rampaging\n",
    "    assembled=np.array([dS, dI, dR])\n",
    "    return assembled\n",
    "\n",
    "def disperse_virus(SIR, dispersion_kernel, dispersion_rates):\n",
    "    dispersed= np.array( [convolve(e, dispersion_kernel, cval=0)*r\n",
    "                       for (e,r) in zip(SIR, dispersion_rates)])\n",
    "    return dispersed\n",
    "\n"
   ]
  },
  {
   "cell_type": "code",
   "execution_count": 7,
   "metadata": {},
   "outputs": [],
   "source": [
    "\n",
    "infection_rate = 0.5\n",
    "incubation_rate = 0.2\n",
    "\n",
    "dispersion_kernel = np.array([[0.5, 1 , 0.5],\n",
    "                                [1  , -6, 1],\n",
    "                                [0.5, 1, 0.5]]) \n",
    "dispersion_rates  = [0, 0.05, 0.03]\n",
    "\n",
    "population_map = mpimg.imread('swiss_dot_map.png')\n",
    "swiss_map=population_map[:, :, 2]\n",
    "pop_map=(1-swiss_map)\n",
    "\n",
    "SIR = np.zeros((3, np.shape(population_map)[0], np.shape(population_map)[1]),  dtype=float)\n",
    "SIR[0] = pop_map\n",
    "\n",
    "start = (200, 600) #Patient 0 position\n",
    "\n",
    "SIR[1,start[0], start[1]] = 0.8 # \n",
    "\n",
    "dt = 1.0 \n",
    "country = {'SIR':SIR, 't':0}\n",
    "coefs = np.array([2,25,25]).reshape((3,1,1))\n",
    "\n",
    "ims = []\n",
    "\n",
    "#Generate list of images for video simmulation\n",
    "for i in range(600):\n",
    "    \n",
    "    infect = infection_propagation(country['SIR'], infection_rate, incubation_rate)\n",
    "    disperse = disperse_virus(country['SIR'], dispersion_kernel, dispersion_rates)\n",
    "    country['SIR'] += dt*(infect+disperse)\n",
    "    country['t']= country['t']+dt\n",
    "\n",
    "    accentuated = 255*coefs*country['SIR']\n",
    "    image = accentuated[::-1].swapaxes(0,2).swapaxes(0,1)\n",
    "    \n",
    "    frame1=np.minimum(255, image)\n",
    "    ims.append(frame1)\n",
    "    \n",
    "\n"
   ]
  },
  {
   "cell_type": "code",
   "execution_count": null,
   "metadata": {},
   "outputs": [],
   "source": [
    "#Write movie\n",
    "#clip = ImageSequenceClip(list(array), fps=20)\n",
    "clip = ImageSequenceClip(ims, fps=25)\n",
    "#clip.write_gif('simmulation.gif', fps=15)\n",
    "clip.write_videofile('simmulation.mp4', fps=25)"
   ]
  },
  {
   "cell_type": "code",
   "execution_count": null,
   "metadata": {},
   "outputs": [],
   "source": []
  }
 ],
 "metadata": {
  "kernelspec": {
   "display_name": "Python 3",
   "language": "python",
   "name": "python3"
  },
  "language_info": {
   "codemirror_mode": {
    "name": "ipython",
    "version": 3
   },
   "file_extension": ".py",
   "mimetype": "text/x-python",
   "name": "python",
   "nbconvert_exporter": "python",
   "pygments_lexer": "ipython3",
   "version": "3.7.6"
  }
 },
 "nbformat": 4,
 "nbformat_minor": 4
}
