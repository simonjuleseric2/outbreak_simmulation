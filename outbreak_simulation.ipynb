{
 "cells": [
  {
   "cell_type": "code",
   "execution_count": 22,
   "metadata": {},
   "outputs": [],
   "source": [
    "import numpy as np\n",
    "import matplotlib.pyplot as plt\n",
    "#import matplotlib.animation as animation\n",
    "#from IPython.display import HTML\n",
    "#from skimage import color\n",
    "from scipy.ndimage.filters import convolve\n",
    "import moviepy.editor as mpy\n",
    "import matplotlib.image as mpimg\n",
    "from moviepy.editor import ImageSequenceClip\n",
    "import cv2\n",
    "%matplotlib inline\n",
    "\n",
    "def infection_propagation(SIR_matrice, infection_rate, incubation_rate):\n",
    "    S,I,R = SIR_matrice\n",
    "    newly_infected = infection_rate*R*S\n",
    "    dR = incubation_rate*I\n",
    "    dS = - newly_infected\n",
    "    dI = newly_infected - dR\n",
    "    assembled=np.array([dS, dI, dR])\n",
    "    return assembled\n",
    "\n",
    "def disperse_virus(SIR, dispersion_kernel, dispersion_rates):\n",
    "   \n",
    "    dispersed=np.zeros((np.shape(SIR)[0], np.shape(SIR)[1], np.shape(SIR)[2]), dtype=float)\n",
    "    for i in range(0, 3):\n",
    "        dispersed[i, :, :]=convolve(SIR[i, :, :], dispersion_kernel, cval=0)*dispersion_rates[i]\n",
    "        \n",
    "    return dispersed\n",
    "\n"
   ]
  },
  {
   "cell_type": "code",
   "execution_count": 23,
   "metadata": {},
   "outputs": [],
   "source": [
    "\n",
    "infection_rate = 0.5\n",
    "incubation_rate = 0.2\n",
    "\n",
    "dispersion_kernel = np.array([[0.5, 1 , 0.5],\n",
    "                                [1  , -6, 1],\n",
    "                                [0.5, 1, 0.5]]) \n",
    "dispersion_rates  = [0, 0.05, 0.03]\n",
    "\n",
    "population_map = mpimg.imread('swiss_dot_map.png')\n",
    "swiss_map=population_map[:, :, 2]\n",
    "resized = cv2.resize(swiss_map, (540, 360), interpolation = cv2.INTER_AREA)\n",
    "pop_map=(1-resized)\n",
    "\n",
    "SIR = np.zeros((3, np.shape(resized)[0], np.shape(resized)[1]),  dtype=float)\n",
    "SIR[0] = pop_map\n",
    "\n",
    "start = (100, 300) #Patient 0 position\n",
    "\n",
    "SIR[1,start[0], start[1]] = 0.8 # \n",
    "\n",
    "dt = 1.0 \n",
    "country = {'SIR':SIR, 't':0}\n",
    "coefs = np.array([2,25,25]).reshape((3,1,1))\n",
    "\n",
    "ims = []\n",
    "total_time=600\n",
    "\n",
    "#Generate list of images for video simmulation\n",
    "for i in range(total_time): \n",
    "    infect = infection_propagation(country['SIR'], infection_rate, incubation_rate)\n",
    "    disperse = disperse_virus(country['SIR'], dispersion_kernel, dispersion_rates)\n",
    "    country['SIR'] += dt*(infect+disperse)\n",
    "    country['t']= country['t']+dt\n",
    "    accentuated = 255*coefs*country['SIR']\n",
    "    image = accentuated[::-1].swapaxes(0,2).swapaxes(0,1)  \n",
    "    frame1=np.minimum(255, image)\n",
    "    ims.append(frame1)\n",
    "    \n",
    "\n"
   ]
  },
  {
   "cell_type": "code",
   "execution_count": 24,
   "metadata": {},
   "outputs": [
    {
     "name": "stderr",
     "output_type": "stream",
     "text": [
      "t:   3%|▎         | 18/600 [00:00<00:03, 176.70it/s, now=None]"
     ]
    },
    {
     "name": "stdout",
     "output_type": "stream",
     "text": [
      "Moviepy - Building video simulation.mp4.\n",
      "Moviepy - Writing video simulation.mp4\n",
      "\n"
     ]
    },
    {
     "name": "stderr",
     "output_type": "stream",
     "text": [
      "                                                               "
     ]
    },
    {
     "name": "stdout",
     "output_type": "stream",
     "text": [
      "Moviepy - Done !\n",
      "Moviepy - video ready simulation.mp4\n"
     ]
    },
    {
     "name": "stderr",
     "output_type": "stream",
     "text": [
      "\r"
     ]
    }
   ],
   "source": [
    "#Write movie\n",
    "#clip = ImageSequenceClip(list(array), fps=20)\n",
    "clip = ImageSequenceClip(ims, fps=25)\n",
    "#clip.write_gif('simulation.gif', fps=20)\n",
    "clip.write_videofile('simulation.mp4', fps=25)"
   ]
  },
  {
   "cell_type": "code",
   "execution_count": null,
   "metadata": {},
   "outputs": [],
   "source": []
  }
 ],
 "metadata": {
  "kernelspec": {
   "display_name": "Python (simenv)",
   "language": "python",
   "name": "simenv"
  },
  "language_info": {
   "codemirror_mode": {
    "name": "ipython",
    "version": 3
   },
   "file_extension": ".py",
   "mimetype": "text/x-python",
   "name": "python",
   "nbconvert_exporter": "python",
   "pygments_lexer": "ipython3",
   "version": "3.7.6"
  }
 },
 "nbformat": 4,
 "nbformat_minor": 4
}
